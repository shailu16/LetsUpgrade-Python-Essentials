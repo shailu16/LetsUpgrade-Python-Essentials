{
  "nbformat": 4,
  "nbformat_minor": 0,
  "metadata": {
    "colab": {
      "name": "assignment1.ipynb",
      "provenance": [],
      "collapsed_sections": []
    },
    "kernelspec": {
      "name": "python3",
      "display_name": "Python 3"
    }
  },
  "cells": [
    {
      "cell_type": "code",
      "metadata": {
        "colab": {
          "base_uri": "https://localhost:8080/"
        },
        "id": "HayypxFMZJGW",
        "outputId": "97f82411-8396-4bb5-e4c6-eb14ebb161a0"
      },
      "source": [
        "List = ['PHP',1994,'Python',1991,'C',1972]\r\n",
        "List.append('C++')\r\n",
        "print(List)"
      ],
      "execution_count": null,
      "outputs": [
        {
          "output_type": "stream",
          "text": [
            "['PHP', 1994, 'Python', 1991, 'C', 1972, 'C++']\n"
          ],
          "name": "stdout"
        }
      ]
    },
    {
      "cell_type": "code",
      "metadata": {
        "colab": {
          "base_uri": "https://localhost:8080/"
        },
        "id": "-Gon9hIQap6H",
        "outputId": "ac10d001-40e4-4382-a5dd-237a408372cf"
      },
      "source": [
        "List = ['PHP',1994,'Python',1991,'C',1972,'C++']\r\n",
        "List.insert(1,1980)\r\n",
        "print(List)"
      ],
      "execution_count": null,
      "outputs": [
        {
          "output_type": "stream",
          "text": [
            "['PHP', 1980, 1994, 'Python', 1991, 'C', 1972, 'C++']\n"
          ],
          "name": "stdout"
        }
      ]
    },
    {
      "cell_type": "code",
      "metadata": {
        "colab": {
          "base_uri": "https://localhost:8080/"
        },
        "id": "HUoZYb9Ubf-A",
        "outputId": "d7177562-c565-4232-80ca-0c73496b3534"
      },
      "source": [
        "List = ['PHP',1994,'Python',1991,'C',1972]\r\n",
        "print(len(List))"
      ],
      "execution_count": null,
      "outputs": [
        {
          "output_type": "stream",
          "text": [
            "6\n"
          ],
          "name": "stdout"
        }
      ]
    },
    {
      "cell_type": "code",
      "metadata": {
        "colab": {
          "base_uri": "https://localhost:8080/"
        },
        "id": "EoiHxTQCcDP-",
        "outputId": "9814ab2f-799f-4a52-f663-384569daa82b"
      },
      "source": [
        "List = ['PHP',1994,'Python',1991,'C',1972]\r\n",
        "del List[2]\r\n",
        "print(List)"
      ],
      "execution_count": null,
      "outputs": [
        {
          "output_type": "stream",
          "text": [
            "['PHP', 1994, 1991, 'C', 1972]\n"
          ],
          "name": "stdout"
        }
      ]
    },
    {
      "cell_type": "code",
      "metadata": {
        "colab": {
          "base_uri": "https://localhost:8080/"
        },
        "id": "ZLI-gVgGdA26",
        "outputId": "40d0121a-ecd2-4244-b6bb-8c6f9ae879f2"
      },
      "source": [
        "List = ['PHP',1994,'Python',1991,'C',1972]\r\n",
        "List.remove('PHP')\r\n",
        "print(List)"
      ],
      "execution_count": null,
      "outputs": [
        {
          "output_type": "stream",
          "text": [
            "[1994, 'Python', 1991, 'C', 1972]\n"
          ],
          "name": "stdout"
        }
      ]
    },
    {
      "cell_type": "code",
      "metadata": {
        "id": "TgvJ6mTndcHY",
        "colab": {
          "base_uri": "https://localhost:8080/"
        },
        "outputId": "a9e83579-5ed7-4ff5-8778-cd2bcd6c171b"
      },
      "source": [
        "student = {\r\n",
        "  \"name\": \"Shailendra\",\r\n",
        "  \"class\": \"BTECH\",\r\n",
        "  \"batch\": 2017,\r\n",
        "  \"university\": \"ITM\"\r\n",
        "}\r\n",
        "s1 = student.get(\"batch\")\r\n",
        "print(s1)"
      ],
      "execution_count": 13,
      "outputs": [
        {
          "output_type": "stream",
          "text": [
            "2017\n"
          ],
          "name": "stdout"
        }
      ]
    },
    {
      "cell_type": "code",
      "metadata": {
        "colab": {
          "base_uri": "https://localhost:8080/"
        },
        "id": "CskouxQwhPjO",
        "outputId": "9bb9044d-4403-4632-f3fd-9092994ceb8e"
      },
      "source": [
        "student = {\r\n",
        "  \"name\": \"Shailendra\",\r\n",
        "  \"class\": \"BTECH\",\r\n",
        "  \"batch\": 2017,\r\n",
        "  \"university\": \"ITM\"\r\n",
        "}\r\n",
        "s2 = student.copy()\r\n",
        "print(s2)"
      ],
      "execution_count": 14,
      "outputs": [
        {
          "output_type": "stream",
          "text": [
            "{'name': 'Shailendra', 'class': 'BTECH', 'batch': 2017, 'university': 'ITM'}\n"
          ],
          "name": "stdout"
        }
      ]
    },
    {
      "cell_type": "code",
      "metadata": {
        "colab": {
          "base_uri": "https://localhost:8080/"
        },
        "id": "ucKYSuZVh1WA",
        "outputId": "c65cfec5-8676-4e20-802c-b44fef6a2251"
      },
      "source": [
        "student = {\r\n",
        "  \"name\": \"Shailendra\",\r\n",
        "  \"class\": \"BTECH\",\r\n",
        "  \"batch\": 2017,\r\n",
        "  \"university\": \"ITM\"\r\n",
        "}\r\n",
        "student.update({\"branch\":\"CSE\"})\r\n",
        "print(student)"
      ],
      "execution_count": 17,
      "outputs": [
        {
          "output_type": "stream",
          "text": [
            "{'name': 'Shailendra', 'class': 'BTECH', 'batch': 2017, 'university': 'ITM', 'branch': 'CSE'}\n"
          ],
          "name": "stdout"
        }
      ]
    },
    {
      "cell_type": "code",
      "metadata": {
        "colab": {
          "base_uri": "https://localhost:8080/"
        },
        "id": "i7OKZIEJifPT",
        "outputId": "4ea800d9-0309-470a-c883-a0aac0065a4d"
      },
      "source": [
        "student = {\r\n",
        "  \"name\": \"Shailendra\",\r\n",
        "  \"class\": \"BTECH\",\r\n",
        "  'branch': 'CSE',\r\n",
        "  \"batch\": 2017,\r\n",
        "  \"university\": \"ITM\"\r\n",
        "}\r\n",
        "s3 = student.keys()\r\n",
        "print(s3)"
      ],
      "execution_count": 19,
      "outputs": [
        {
          "output_type": "stream",
          "text": [
            "dict_keys(['name', 'class', 'branch', 'batch', 'university'])\n"
          ],
          "name": "stdout"
        }
      ]
    },
    {
      "cell_type": "code",
      "metadata": {
        "colab": {
          "base_uri": "https://localhost:8080/"
        },
        "id": "fhWkhkUtjKg1",
        "outputId": "5f0d7227-f6bd-4642-ea66-927c6e598df9"
      },
      "source": [
        "student = {\r\n",
        "  \"name\": \"Shailendra\",\r\n",
        "  \"class\": \"BTECH\",\r\n",
        "  'branch': 'CSE',\r\n",
        "  \"batch\": 2017,\r\n",
        "  \"university\": \"ITM\"\r\n",
        "}\r\n",
        "student.clear()\r\n",
        "print(student)"
      ],
      "execution_count": 20,
      "outputs": [
        {
          "output_type": "stream",
          "text": [
            "{}\n"
          ],
          "name": "stdout"
        }
      ]
    }
  ]
}